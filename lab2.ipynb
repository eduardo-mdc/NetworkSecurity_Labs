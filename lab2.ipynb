{
 "cells": [
  {
   "cell_type": "markdown",
   "metadata": {},
   "source": [
    "# Exercise 1\n",
    "\n",
    "## 1.1 Write a wireshark filter that allows you to filter just the network traffic on the interface that connects\n",
    "to the Host network, originates on the that machine and is http. Look at the output from a session\n",
    "accessing the Museu Nacional do Azulejo website. Repeat for Sigarra, during and after authentication\n",
    "(you can do a bogus login). Can you see any password in transit? Why?"
   ]
  },
  {
   "cell_type": "markdown",
   "metadata": {},
   "source": [
    "**Wireshark Filter:**\n",
    "\n",
    "``ip.src == 192.168.0.200 and http``"
   ]
  },
  {
   "cell_type": "markdown",
   "metadata": {},
   "source": [
    "**Result** (Museu Nacional do Azulejo):\n",
    "```\n",
    "POST /ca/gsatlasr3dvtlsca2023q3 HTTP/1.1\n",
    "Host: ocsp.globalsign.com\n",
    "User-Agent: Mozilla/5.0 (X11; Linux x86_64; rv:109.0) Gecko/20100101 Firefox/115.0\n",
    "Accept: */*\n",
    "Accept-Language: en-US,en;q=0.5\n",
    "Accept-Encoding: gzip, deflate\n",
    "Content-Type: application/ocsp-request\n",
    "Content-Length: 83\n",
    "Connection: keep-alive\n",
    "Pragma: no-cache\n",
    "Cache-Control: no-cache\n",
    "```"
   ]
  },
  {
   "cell_type": "markdown",
   "metadata": {},
   "source": [
    "As we can see, the password is not in transit, because even though the request is made through http, the password is not sent in the request.\n",
    "\n",
    "```\n",
    "**Result** (Sigarra, First Page):\n",
    "\n",
    "POST / HTTP/1.1\n",
    "Host: geant.ocsp.sectigo.com\n",
    "User-Agent: Mozilla/5.0 (X11; Linux x86_64; rv:109.0) Gecko/20100101 Firefox/115.0\n",
    "Accept: */*\n",
    "Accept-Language: en-US,en;q=0.5\n",
    "Accept-Encoding: gzip, deflate\n",
    "Content-Type: application/ocsp-request\n",
    "Content-Length: 84\n",
    "Connection: keep-alive\n",
    "Pragma: no-cache\n",
    "Cache-Control: no-cache```"
   ]
  },
  {
   "cell_type": "markdown",
   "metadata": {},
   "source": []
  }
 ],
 "metadata": {
  "language_info": {
   "name": "python"
  },
  "orig_nbformat": 4
 },
 "nbformat": 4,
 "nbformat_minor": 2
}
